{
 "cells": [
  {
   "cell_type": "markdown",
   "metadata": {},
   "source": [
    "#Creating Classes"
   ]
  },
  {
   "cell_type": "code",
   "execution_count": 2,
   "metadata": {},
   "outputs": [],
   "source": [
    "class Car:\n",
    "    \"\"\"\n",
    "    THis class gives car engine and wheel information\n",
    "    \"\"\"\n",
    "    def __init__(self, engine=\"4-stroke\", wheel=4):\n",
    "        self.engine = engine\n",
    "        self.wheel = wheel"
   ]
  },
  {
   "cell_type": "code",
   "execution_count": 4,
   "metadata": {},
   "outputs": [
    {
     "name": "stdout",
     "output_type": "stream",
     "text": [
      "4-stroke\n",
      "4\n"
     ]
    }
   ],
   "source": [
    "MyCar = Car()\n",
    "print(MyCar.engine)\n",
    "print(MyCar.wheel)"
   ]
  },
  {
   "cell_type": "code",
   "execution_count": 6,
   "metadata": {},
   "outputs": [
    {
     "name": "stdout",
     "output_type": "stream",
     "text": [
      "2-stroke\n",
      "['front-driver', 'front-passenger', 'rear-driver', 'rear-passenger']\n"
     ]
    }
   ],
   "source": [
    "MySecondCar = Car(\"2-stroke\", ['front-driver', 'front-passenger', 'rear-driver', 'rear-passenger'])\n",
    "print(MySecondCar.engine)\n",
    "print(MySecondCar.wheel)"
   ]
  },
  {
   "cell_type": "code",
   "execution_count": 7,
   "metadata": {},
   "outputs": [
    {
     "name": "stdout",
     "output_type": "stream",
     "text": [
      "AB1234\n"
     ]
    }
   ],
   "source": [
    "MySecondCar.plate = \"AB1234\"\n",
    "print(MySecondCar.plate)"
   ]
  },
  {
   "cell_type": "code",
   "execution_count": 8,
   "metadata": {},
   "outputs": [
    {
     "name": "stdout",
     "output_type": "stream",
     "text": [
      "2-stroke\n",
      "['front-driver', 'front-passenger', 'rear-driver', 'rear-passenger']\n",
      "Engine: 2-stroke, Wheel: ['front-driver', 'front-passenger', 'rear-driver', 'rear-passenger']\n"
     ]
    }
   ],
   "source": [
    "class NewCar():\n",
    "    def __init__(self, engine=\"4-stroke\", wheel=4):\n",
    "        self.engine = engine\n",
    "        self.wheel = wheel\n",
    "\n",
    "    def description(self):\n",
    "        print(f\"Engine: {self.engine}, Wheel: {self.wheel}\")\n",
    "\n",
    "MyNewCar = NewCar( \"2-stroke\", ['front-driver', 'front-passenger', 'rear-driver', 'rear-passenger'])\n",
    "print(MyNewCar.engine)\n",
    "print(MyNewCar.wheel)\n",
    "MyNewCar.description()"
   ]
  },
  {
   "cell_type": "markdown",
   "metadata": {},
   "source": [
    "#Composition"
   ]
  },
  {
   "cell_type": "code",
   "execution_count": 9,
   "metadata": {},
   "outputs": [],
   "source": [
    "class Tire:\n",
    "    \"\"\"\n",
    "    Tire class represents a tire that would be used with an automobile.\n",
    "    \"\"\"\n",
    "    def __init__(self, tire_type, width, ratio, diameter, brand=\"\", construction=\"R\"):\n",
    "        self.tire_type = tire_type\n",
    "        self.width = width\n",
    "        self.ratio = ratio\n",
    "        self.diameter = diameter\n",
    "        self.brand = brand\n",
    "        self.construction = construction\n",
    "\n",
    "    def __repr__(self):\n",
    "        \"\"\"\n",
    "        Represent the tire information in the standard width/ratio-diameter format. Example: 205/55-R16\n",
    "        \"\"\"\n",
    "        return (f\"{self.brand} {self.tire_type}: {self.width}/{self.ratio}{self.construction}-{self.diameter}\")\n",
    "    "
   ]
  },
  {
   "cell_type": "code",
   "execution_count": 10,
   "metadata": {},
   "outputs": [
    {
     "name": "stdout",
     "output_type": "stream",
     "text": [
      "Michelin P: 205/65R-15\n"
     ]
    }
   ],
   "source": [
    "tire = Tire(\"P\", 205, 65, 15, \"Michelin\")\n",
    "print(tire)"
   ]
  },
  {
   "cell_type": "code",
   "execution_count": 11,
   "metadata": {},
   "outputs": [
    {
     "name": "stdout",
     "output_type": "stream",
     "text": [
      "Engine: 4-stroke, Wheel: [Michelin P: 205/65R-15, Michelin P: 205/65R-15, Michelin P: 205/65R-15, Michelin P: 205/65R-15]\n"
     ]
    }
   ],
   "source": [
    "tires = [tire, tire, tire, tire]\n",
    "Honda = NewCar(\"4-stroke\", tires)\n",
    "Honda.description()"
   ]
  },
  {
   "cell_type": "markdown",
   "metadata": {},
   "source": [
    "#Inheritance"
   ]
  },
  {
   "cell_type": "code",
   "execution_count": null,
   "metadata": {},
   "outputs": [],
   "source": []
  }
 ],
 "metadata": {
  "kernelspec": {
   "display_name": "base",
   "language": "python",
   "name": "python3"
  },
  "language_info": {
   "codemirror_mode": {
    "name": "ipython",
    "version": 3
   },
   "file_extension": ".py",
   "mimetype": "text/x-python",
   "name": "python",
   "nbconvert_exporter": "python",
   "pygments_lexer": "ipython3",
   "version": "3.12.4"
  }
 },
 "nbformat": 4,
 "nbformat_minor": 2
}
