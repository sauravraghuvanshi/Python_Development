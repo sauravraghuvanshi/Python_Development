{
 "cells": [
  {
   "cell_type": "markdown",
   "metadata": {},
   "source": [
    "##Writing Functions"
   ]
  },
  {
   "cell_type": "code",
   "execution_count": 1,
   "metadata": {},
   "outputs": [],
   "source": [
    "def hello_world():\n",
    "    print(\"Hello Saurav!\")"
   ]
  },
  {
   "cell_type": "code",
   "execution_count": 2,
   "metadata": {},
   "outputs": [
    {
     "name": "stdout",
     "output_type": "stream",
     "text": [
      "Hello Saurav!\n"
     ]
    }
   ],
   "source": [
    "hello_world()"
   ]
  },
  {
   "cell_type": "code",
   "execution_count": 3,
   "metadata": {},
   "outputs": [
    {
     "name": "stdout",
     "output_type": "stream",
     "text": [
      "name is Saurav\n"
     ]
    }
   ],
   "source": [
    "def hello_name(name):\n",
    "    print(f\"name is {name}\")\n",
    "\n",
    "hello_name(\"Saurav\")"
   ]
  },
  {
   "cell_type": "code",
   "execution_count": 4,
   "metadata": {},
   "outputs": [
    {
     "name": "stdout",
     "output_type": "stream",
     "text": [
      "25\n"
     ]
    }
   ],
   "source": [
    "def square(num):\n",
    "    return num * num\n",
    "\n",
    "print(square(5))"
   ]
  },
  {
   "cell_type": "code",
   "execution_count": 5,
   "metadata": {},
   "outputs": [
    {
     "data": {
      "text/plain": [
       "4"
      ]
     },
     "execution_count": 5,
     "metadata": {},
     "output_type": "execute_result"
    }
   ],
   "source": [
    "square(2)"
   ]
  },
  {
   "cell_type": "code",
   "execution_count": 6,
   "metadata": {},
   "outputs": [
    {
     "name": "stdout",
     "output_type": "stream",
     "text": [
      "5\n"
     ]
    }
   ],
   "source": [
    "def add(a, b):\n",
    "    return a + b\n",
    "\n",
    "print(add(2, 3))"
   ]
  },
  {
   "cell_type": "code",
   "execution_count": 7,
   "metadata": {},
   "outputs": [
    {
     "name": "stdout",
     "output_type": "stream",
     "text": [
      "Name is Saurav, Age is 25, Car Model is BMW\n"
     ]
    }
   ],
   "source": [
    "def details(name, age, car_model):\n",
    "    print(f\"Name is {name}, Age is {age}, Car Model is {car_model}\")\n",
    "\n",
    "details(\"Saurav\", 25, \"BMW\")"
   ]
  },
  {
   "cell_type": "code",
   "execution_count": 9,
   "metadata": {},
   "outputs": [
    {
     "name": "stdout",
     "output_type": "stream",
     "text": [
      "Name is Saurav, Age is 25, Car Model is XYZ\n"
     ]
    }
   ],
   "source": [
    "details(age=25, name=\"Saurav\", car_model=\"XYZ\")"
   ]
  },
  {
   "cell_type": "code",
   "execution_count": 10,
   "metadata": {},
   "outputs": [
    {
     "name": "stdout",
     "output_type": "stream",
     "text": [
      "Saurav is 25 years old\n"
     ]
    }
   ],
   "source": [
    "def driving_age(name, age=18):\n",
    "    print(f\"{name} is {age} years old\")\n",
    "\n",
    "driving_age(\"Saurav\", 25)"
   ]
  },
  {
   "cell_type": "code",
   "execution_count": 11,
   "metadata": {},
   "outputs": [
    {
     "name": "stdout",
     "output_type": "stream",
     "text": [
      "Saurav is 18 years old\n"
     ]
    }
   ],
   "source": [
    "driving_age(\"Saurav\")"
   ]
  },
  {
   "cell_type": "markdown",
   "metadata": {},
   "source": [
    "####Solving Problems with Built-in Python Types"
   ]
  },
  {
   "cell_type": "code",
   "execution_count": 13,
   "metadata": {},
   "outputs": [],
   "source": [
    "def print_todo(todo):\n",
    "    \"\"\"\n",
    "    print_todo takes in a todo dictionary and prints it out\n",
    "    with by separating the `name` from the `body` using a colon (:).\n",
    "  \n",
    "    >>> todo = {'name': 'Example 1', 'body': 'This is a test task', 'points': '3'}\n",
    "    >>> print_todo(todo)\n",
    "    Example 1: This is a test task\n",
    "    >>>\n",
    "    \"\"\"\n",
    "    print(f\"{todo['name']}: {todo['body']}\")\n",
    " \n",
    "def take_first(todos):\n",
    "    \"\"\"\n",
    "    take_first receives a list of todos and removes the first todo\n",
    "    and returns that todo and the remaining todos in a touple\n",
    " \n",
    "    >>> todos = [{'name': 'Example 1', 'body': 'This is a test task', 'points': '3'},\n",
    "    ... {'name': 'Task 2', 'body': 'Yet another example task', 'points': '2'}]\n",
    "    >>> todo, todos = take_first(todos)\n",
    "    >>> todo\n",
    "    {'name': 'Example 1', 'body': 'This is a test task', 'points': '3'}\n",
    "    >>> todos\n",
    "    [{'name': 'Task 2', 'body': 'Yet another example task', 'points': '2'}]\n",
    "    \"\"\"\n",
    "    todo = todos.pop(0)\n",
    "    return (todo, todos)\n",
    " \n",
    "def sum_points(todo1, todo2):\n",
    "    \"\"\"\n",
    "    sum_points receives two todo dictionaries and returns sum of their `point` values.\n",
    " \n",
    "    >>> todos = [{'name': 'Example 1', 'body': 'This is a test task', 'points': '3'},\n",
    "    ... {'name': 'Task 2', 'body': 'Yet another example task', 'points': '2'}]\n",
    "    >>> sum_points(todos[0], todos[1])\n",
    "    5\n",
    "    \"\"\"\n",
    "    return int(todo1['points']) + int(todo2['points'])"
   ]
  },
  {
   "cell_type": "code",
   "execution_count": null,
   "metadata": {},
   "outputs": [],
   "source": []
  }
 ],
 "metadata": {
  "kernelspec": {
   "display_name": "base",
   "language": "python",
   "name": "python3"
  },
  "language_info": {
   "codemirror_mode": {
    "name": "ipython",
    "version": 3
   },
   "file_extension": ".py",
   "mimetype": "text/x-python",
   "name": "python",
   "nbconvert_exporter": "python",
   "pygments_lexer": "ipython3",
   "version": "3.12.4"
  }
 },
 "nbformat": 4,
 "nbformat_minor": 2
}
