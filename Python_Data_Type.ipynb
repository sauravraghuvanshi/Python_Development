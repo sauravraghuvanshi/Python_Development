{
 "cells": [
  {
   "cell_type": "markdown",
   "metadata": {},
   "source": [
    "##Strings"
   ]
  },
  {
   "cell_type": "code",
   "execution_count": 1,
   "metadata": {},
   "outputs": [
    {
     "name": "stdout",
     "output_type": "stream",
     "text": [
      "single quote\n"
     ]
    }
   ],
   "source": [
    "print('single quote')"
   ]
  },
  {
   "cell_type": "code",
   "execution_count": 3,
   "metadata": {},
   "outputs": [
    {
     "name": "stdout",
     "output_type": "stream",
     "text": [
      "this is a\n",
      "multiline string\n"
     ]
    }
   ],
   "source": [
    "a = \"\"\"this is a\n",
    "multiline string\"\"\"\n",
    "\n",
    "print(a)"
   ]
  },
  {
   "cell_type": "code",
   "execution_count": 4,
   "metadata": {},
   "outputs": [
    {
     "name": "stdout",
     "output_type": "stream",
     "text": [
      "Add strings\n"
     ]
    }
   ],
   "source": [
    "b = \"Add\" + \" strings\"\n",
    "print(b)"
   ]
  },
  {
   "cell_type": "code",
   "execution_count": 8,
   "metadata": {},
   "outputs": [
    {
     "name": "stdout",
     "output_type": "stream",
     "text": [
      "Multiply Multiply Multiply \n"
     ]
    }
   ],
   "source": [
    "c = \"Multiply \" * 3\n",
    "print(c)"
   ]
  },
  {
   "cell_type": "code",
   "execution_count": 11,
   "metadata": {},
   "outputs": [
    {
     "name": "stdout",
     "output_type": "stream",
     "text": [
      "3 4\n"
     ]
    }
   ],
   "source": [
    "d = \"String\".find(\"i\")\n",
    "e = \"string\".find(\"ng\")\n",
    "print(d, e)"
   ]
  },
  {
   "cell_type": "code",
   "execution_count": 12,
   "metadata": {},
   "outputs": [
    {
     "name": "stdout",
     "output_type": "stream",
     "text": [
      "string\n"
     ]
    }
   ],
   "source": [
    "f = \"StRinG\".lower()\n",
    "print(f)"
   ]
  },
  {
   "cell_type": "code",
   "execution_count": 14,
   "metadata": {},
   "outputs": [
    {
     "name": "stdout",
     "output_type": "stream",
     "text": [
      "Hello\n",
      "World\n",
      "Hello\tWorld\n"
     ]
    }
   ],
   "source": [
    "print(\"Hello\\nWorld\")\n",
    "print(\"Hello\\tWorld\")"
   ]
  },
  {
   "cell_type": "markdown",
   "metadata": {},
   "source": [
    "##Numbers"
   ]
  },
  {
   "cell_type": "code",
   "execution_count": 2,
   "metadata": {},
   "outputs": [
    {
     "name": "stdout",
     "output_type": "stream",
     "text": [
      "7\n",
      "3\n",
      "10\n",
      "2.5\n",
      "2\n",
      "1\n",
      "25\n",
      "7.3\n",
      "7.0\n"
     ]
    }
   ],
   "source": [
    "print(5 + 2)\n",
    "print(5-2)\n",
    "print(5*2)\n",
    "print(5/2)\n",
    "print(5//2)\n",
    "print(5%2)\n",
    "print(5**2)\n",
    "print(5.1 + 2.2)\n",
    "print(str('7.0'))\n"
   ]
  },
  {
   "cell_type": "markdown",
   "metadata": {},
   "source": [
    "##Booleans and None"
   ]
  },
  {
   "cell_type": "code",
   "execution_count": 3,
   "metadata": {},
   "outputs": [
    {
     "name": "stdout",
     "output_type": "stream",
     "text": [
      "None\n",
      "False\n",
      "True\n",
      "False\n",
      "True\n"
     ]
    }
   ],
   "source": [
    "print(None)\n",
    "print(bool(0))\n",
    "print(bool(1))\n",
    "print(bool(\"\"))\n",
    "print(bool(\" \"))"
   ]
  },
  {
   "cell_type": "markdown",
   "metadata": {},
   "source": [
    "##Working with Variables"
   ]
  },
  {
   "cell_type": "code",
   "execution_count": 4,
   "metadata": {},
   "outputs": [
    {
     "name": "stdout",
     "output_type": "stream",
     "text": [
      "saurav\n"
     ]
    }
   ],
   "source": [
    "my_name = \"saurav\"\n",
    "print(my_name)"
   ]
  },
  {
   "cell_type": "code",
   "execution_count": 5,
   "metadata": {},
   "outputs": [
    {
     "name": "stdout",
     "output_type": "stream",
     "text": [
      "saurav raghuvanshi\n"
     ]
    }
   ],
   "source": [
    "my_name += \" raghuvanshi\"\n",
    "print(my_name)"
   ]
  },
  {
   "cell_type": "code",
   "execution_count": 6,
   "metadata": {},
   "outputs": [
    {
     "name": "stdout",
     "output_type": "stream",
     "text": [
      "s\n"
     ]
    }
   ],
   "source": [
    "print(my_name[0])"
   ]
  },
  {
   "cell_type": "markdown",
   "metadata": {},
   "source": [
    "##Lists"
   ]
  },
  {
   "cell_type": "code",
   "execution_count": 8,
   "metadata": {},
   "outputs": [
    {
     "name": "stdout",
     "output_type": "stream",
     "text": [
      "[1, 2, 3, 4, 5]\n",
      "1\n",
      "[2, 3]\n",
      "[2, 3, 4, 5]\n",
      "[1, 2, 3]\n",
      "5\n",
      "[4, 5]\n"
     ]
    }
   ],
   "source": [
    "my_list = [1, 2, 3, 4, 5]\n",
    "print(my_list)\n",
    "print(my_list[0])\n",
    "print(my_list[1:3])\n",
    "print(my_list[1:])\n",
    "print(my_list[:3])\n",
    "print(my_list[-1])\n",
    "print(my_list[-2:])\n"
   ]
  },
  {
   "cell_type": "code",
   "execution_count": 9,
   "metadata": {},
   "outputs": [
    {
     "name": "stdout",
     "output_type": "stream",
     "text": [
      "[1, 2, 3, 4, 5, 6]\n",
      "[0, 1, 2, 3, 4, 5, 6]\n",
      "[1, 2, 3, 4, 5, 6]\n",
      "[1, 2, 3, 4, 5]\n",
      "[2, 3, 4, 5]\n",
      "[2, 3, 4, 5]\n"
     ]
    }
   ],
   "source": [
    "my_list.append(6)\n",
    "print(my_list)\n",
    "\n",
    "my_list.insert(0, 0)\n",
    "print(my_list)\n",
    "\n",
    "my_list.remove(0)\n",
    "print(my_list)\n",
    "\n",
    "my_list.pop()\n",
    "print(my_list)\n",
    "\n",
    "my_list.pop(0)\n",
    "print(my_list)\n",
    "\n",
    "my_list[len(my_list) -1]\n",
    "print(my_list)"
   ]
  },
  {
   "cell_type": "code",
   "execution_count": 11,
   "metadata": {},
   "outputs": [
    {
     "name": "stdout",
     "output_type": "stream",
     "text": [
      "[2, 4]\n"
     ]
    }
   ],
   "source": [
    "print(my_list[::2])"
   ]
  },
  {
   "cell_type": "code",
   "execution_count": 13,
   "metadata": {},
   "outputs": [
    {
     "name": "stdout",
     "output_type": "stream",
     "text": [
      "[5, 4, 3, 2]\n"
     ]
    }
   ],
   "source": [
    "print(my_list[::-1])"
   ]
  },
  {
   "cell_type": "code",
   "execution_count": 15,
   "metadata": {},
   "outputs": [
    {
     "name": "stdout",
     "output_type": "stream",
     "text": [
      "[1, 2, 3, 4, 5]\n",
      "['a', 2, 3, 4, 5]\n",
      "['a', 'b', 'c', 4, 5]\n",
      "[1, 2, 3, 4, 5]\n",
      "[4, 5]\n"
     ]
    }
   ],
   "source": [
    "my_list = [1, 2, 3, 4, 5]\n",
    "print(my_list)\n",
    "my_list[0] = 'a'\n",
    "print(my_list)\n",
    "\n",
    "my_list[1:3] = ['b', 'c']\n",
    "print(my_list)\n",
    "\n",
    "my_list[0:3] = [1, 2, 3]\n",
    "print(my_list)\n",
    "\n",
    "my_list[0:3] = []\n",
    "print(my_list)"
   ]
  },
  {
   "cell_type": "code",
   "execution_count": 17,
   "metadata": {},
   "outputs": [
    {
     "name": "stdout",
     "output_type": "stream",
     "text": [
      "[1, 2, 3, 4, 5]\n",
      "[1, 2, 4, 5]\n",
      "5\n",
      "[1, 2, 4]\n",
      "1\n",
      "[2, 4]\n"
     ]
    }
   ],
   "source": [
    "my_list = [1, 2, 3, 4, 5]\n",
    "print(my_list)\n",
    "my_list.remove(3)\n",
    "print(my_list)\n",
    "\n",
    "print(my_list.pop())\n",
    "print(my_list)\n",
    "\n",
    "print(my_list.pop(0))\n",
    "print(my_list)"
   ]
  },
  {
   "cell_type": "code",
   "execution_count": 23,
   "metadata": {},
   "outputs": [
    {
     "name": "stdout",
     "output_type": "stream",
     "text": [
      "[1, 2, 3, 4, 5, 3]\n",
      "[1, 2, 3, 4, 5, 3, [4, 5]]\n"
     ]
    }
   ],
   "source": [
    "my_list = [1, 2, 3, 4, 5]\n",
    "my_list.append(3)\n",
    "print(my_list)\n",
    "\n",
    "my_list.append([4, 5])\n",
    "print(my_list)"
   ]
  },
  {
   "cell_type": "code",
   "execution_count": 24,
   "metadata": {},
   "outputs": [
    {
     "name": "stdout",
     "output_type": "stream",
     "text": [
      "[6, 1, 2, 3, 4, 5, 3, [4, 5]]\n"
     ]
    }
   ],
   "source": [
    "my_list.insert(0, 6)\n",
    "print(my_list)"
   ]
  },
  {
   "cell_type": "code",
   "execution_count": 25,
   "metadata": {},
   "outputs": [
    {
     "name": "stdout",
     "output_type": "stream",
     "text": [
      "[6, 1, 2, 3, 4, 5, 3, [4, 5], 7, 8]\n"
     ]
    }
   ],
   "source": [
    "my_list.extend([7, 8])\n",
    "print(my_list)"
   ]
  },
  {
   "cell_type": "markdown",
   "metadata": {},
   "source": [
    "##Tuples & Ranges"
   ]
  },
  {
   "cell_type": "code",
   "execution_count": 27,
   "metadata": {},
   "outputs": [
    {
     "name": "stdout",
     "output_type": "stream",
     "text": [
      "(1.0, 2.0)\n",
      "1.0\n",
      "(1.0, 2.0, 3.0)\n",
      "1.0\n",
      "2.0\n",
      "3.0\n",
      "My name is Saurav Raghuvanshi!\n"
     ]
    }
   ],
   "source": [
    "point = (1.0, 2.0)\n",
    "print(point)\n",
    "print(point[0])\n",
    "\n",
    "point_3d = point + (3.0,)\n",
    "print(point_3d)\n",
    "\n",
    "x, y, z = point_3d\n",
    "print(x)\n",
    "print(y)\n",
    "print(z)\n",
    "\n",
    "my_name = \"My name is %s %s%s\" % (\"Saurav\", \"Raghuvanshi\", \"!\")\n",
    "print(my_name)"
   ]
  },
  {
   "cell_type": "code",
   "execution_count": 28,
   "metadata": {},
   "outputs": [
    {
     "name": "stdout",
     "output_type": "stream",
     "text": [
      "3\n"
     ]
    }
   ],
   "source": [
    "print(len(point_3d))"
   ]
  },
  {
   "cell_type": "code",
   "execution_count": 29,
   "metadata": {},
   "outputs": [
    {
     "name": "stdout",
     "output_type": "stream",
     "text": [
      "range(0, 10)\n"
     ]
    }
   ],
   "source": [
    "print(range(10))"
   ]
  },
  {
   "cell_type": "code",
   "execution_count": 33,
   "metadata": {},
   "outputs": [
    {
     "name": "stdout",
     "output_type": "stream",
     "text": [
      "[0, 1, 2, 3, 4, 5, 6, 7, 8, 9]\n",
      "[1, 3, 5, 7, 9, 11]\n"
     ]
    }
   ],
   "source": [
    "print(list(range(10)))\n",
    "\n",
    "print(list(range(1, 12, 2)))"
   ]
  },
  {
   "cell_type": "markdown",
   "metadata": {},
   "source": [
    "##Dictionaries (dicts)"
   ]
  },
  {
   "cell_type": "code",
   "execution_count": 35,
   "metadata": {},
   "outputs": [
    {
     "name": "stdout",
     "output_type": "stream",
     "text": [
      "{'Saurav': 25, 'Raghuvanshi': 24}\n",
      "25\n"
     ]
    }
   ],
   "source": [
    "ages = {\"Saurav\": 25, \"Raghuvanshi\": 24}\n",
    "print(ages)\n",
    "\n",
    "print(ages[\"Saurav\"])"
   ]
  },
  {
   "cell_type": "code",
   "execution_count": 36,
   "metadata": {},
   "outputs": [
    {
     "name": "stdout",
     "output_type": "stream",
     "text": [
      "{'Saurav': 25, 'Raghuvanshi': 24, 'Singh': 26}\n"
     ]
    }
   ],
   "source": [
    "ages[\"Singh\"] = 26\n",
    "print(ages)"
   ]
  },
  {
   "cell_type": "code",
   "execution_count": 37,
   "metadata": {},
   "outputs": [
    {
     "name": "stdout",
     "output_type": "stream",
     "text": [
      "{'Saurav': 25, 'Raghuvanshi': 24, 'Singh': 27}\n"
     ]
    }
   ],
   "source": [
    "ages[\"Singh\"] = 27\n",
    "print(ages)"
   ]
  },
  {
   "cell_type": "code",
   "execution_count": 38,
   "metadata": {},
   "outputs": [
    {
     "name": "stdout",
     "output_type": "stream",
     "text": [
      "{'Saurav': 25, 'Raghuvanshi': 24}\n"
     ]
    }
   ],
   "source": [
    "del ages[\"Singh\"]\n",
    "print(ages)"
   ]
  },
  {
   "cell_type": "code",
   "execution_count": 39,
   "metadata": {},
   "outputs": [
    {
     "name": "stdout",
     "output_type": "stream",
     "text": [
      "{'Saurav': 25, 'Raghuvanshi': 24, 'Singh': 26}\n",
      "26\n",
      "{'Saurav': 25, 'Raghuvanshi': 24}\n"
     ]
    }
   ],
   "source": [
    "ages[\"Singh\"] = 26\n",
    "print(ages)\n",
    "\n",
    "print(ages.pop(\"Singh\"))\n",
    "print(ages)"
   ]
  },
  {
   "cell_type": "code",
   "execution_count": 41,
   "metadata": {},
   "outputs": [
    {
     "name": "stdout",
     "output_type": "stream",
     "text": [
      "25\n"
     ]
    }
   ],
   "source": [
    "print(ages.get(\"Saurav\"))"
   ]
  },
  {
   "cell_type": "code",
   "execution_count": 42,
   "metadata": {},
   "outputs": [
    {
     "name": "stdout",
     "output_type": "stream",
     "text": [
      "dict_keys(['Saurav', 'Raghuvanshi'])\n",
      "dict_values([25, 24])\n"
     ]
    }
   ],
   "source": [
    "print(ages.keys())\n",
    "\n",
    "print(ages.values())"
   ]
  },
  {
   "cell_type": "code",
   "execution_count": 44,
   "metadata": {},
   "outputs": [
    {
     "name": "stdout",
     "output_type": "stream",
     "text": [
      "['Saurav', 'Raghuvanshi']\n",
      "[25, 24]\n"
     ]
    }
   ],
   "source": [
    "print(list(ages.keys()))\n",
    "\n",
    "print(list((ages.values())))"
   ]
  },
  {
   "cell_type": "code",
   "execution_count": 45,
   "metadata": {},
   "outputs": [
    {
     "name": "stdout",
     "output_type": "stream",
     "text": [
      "{'Saurav': 60, 'Raghuvanshi': 70}\n"
     ]
    }
   ],
   "source": [
    "weights = dict(Saurav=60, Raghuvanshi=70)\n",
    "print(weights)"
   ]
  },
  {
   "cell_type": "code",
   "execution_count": 46,
   "metadata": {},
   "outputs": [
    {
     "name": "stdout",
     "output_type": "stream",
     "text": [
      "{'Saurav': 'Red', 'Raghuvanshi': 'Blue'}\n"
     ]
    }
   ],
   "source": [
    "colors = dict([(\"Saurav\", \"Red\"), (\"Raghuvanshi\", \"Blue\")])\n",
    "print(colors)"
   ]
  }
 ],
 "metadata": {
  "kernelspec": {
   "display_name": "base",
   "language": "python",
   "name": "python3"
  },
  "language_info": {
   "codemirror_mode": {
    "name": "ipython",
    "version": 3
   },
   "file_extension": ".py",
   "mimetype": "text/x-python",
   "name": "python",
   "nbconvert_exporter": "python",
   "pygments_lexer": "ipython3",
   "version": "3.12.4"
  }
 },
 "nbformat": 4,
 "nbformat_minor": 2
}
